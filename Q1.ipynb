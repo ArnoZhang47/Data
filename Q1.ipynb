{
  "nbformat": 4,
  "nbformat_minor": 0,
  "metadata": {
    "colab": {
      "name": "Q1.ipynb",
      "provenance": [],
      "collapsed_sections": []
    },
    "kernelspec": {
      "name": "python3",
      "display_name": "Python 3"
    },
    "accelerator": "GPU"
  },
  "cells": [
    {
      "cell_type": "code",
      "metadata": {
        "id": "ar1xTOl23fJi",
        "colab_type": "code",
        "outputId": "f542a57e-89b5-4b2b-f799-814e490888f8",
        "colab": {
          "base_uri": "https://localhost:8080/",
          "height": 100
        }
      },
      "source": [
        "import time\n",
        "import pandas as pd\n",
        "import numpy as np\n",
        "import matplotlib.pyplot as plt\n",
        "import seaborn as sns\n",
        "from gensim.models.doc2vec import Doc2Vec, TaggedDocument\n",
        "from sklearn.model_selection import train_test_split\n",
        "from sklearn.metrics import confusion_matrix, classification_report\n",
        "from sklearn.manifold import TSNE\n",
        "from sklearn.linear_model import LogisticRegression\n",
        "import warnings\n",
        "from nltk.tokenize import word_tokenize\n",
        "import matplotlib.patheffects as PathEffects\n",
        "%matplotlib inline\n",
        "import seaborn as sns\n",
        "from sklearn.manifold import TSNE\n",
        "import time\n",
        "import nltk\n",
        "nltk.download('punkt')"
      ],
      "execution_count": 1,
      "outputs": [
        {
          "output_type": "stream",
          "text": [
            "/usr/local/lib/python3.6/dist-packages/statsmodels/tools/_testing.py:19: FutureWarning: pandas.util.testing is deprecated. Use the functions in the public API at pandas.testing instead.\n",
            "  import pandas.util.testing as tm\n"
          ],
          "name": "stderr"
        },
        {
          "output_type": "stream",
          "text": [
            "[nltk_data] Downloading package punkt to /root/nltk_data...\n",
            "[nltk_data]   Unzipping tokenizers/punkt.zip.\n"
          ],
          "name": "stdout"
        },
        {
          "output_type": "execute_result",
          "data": {
            "text/plain": [
              "True"
            ]
          },
          "metadata": {
            "tags": []
          },
          "execution_count": 1
        }
      ]
    },
    {
      "cell_type": "code",
      "metadata": {
        "id": "jpwtRi_r9jNg",
        "colab_type": "code",
        "colab": {}
      },
      "source": [
        "def heatconmat(y_true,y_pred):\n",
        "    sns.set_context('talk')\n",
        "    plt.figure(figsize=(5,5))\n",
        "    sns.heatmap(confusion_matrix(y_true,y_pred),\n",
        "                annot=True,\n",
        "                fmt='d',\n",
        "                cbar=False,\n",
        "                cmap='gist_earth_r',\n",
        "                yticklabels=sorted(y_test.unique()))\n",
        "    plt.show()\n",
        "    print(classification_report(y_true,y_pred))"
      ],
      "execution_count": 0,
      "outputs": []
    },
    {
      "cell_type": "code",
      "metadata": {
        "id": "f03Y73PqLldM",
        "colab_type": "code",
        "colab": {}
      },
      "source": [
        "sns.set_style('darkgrid')\n",
        "sns.set_palette('muted')\n",
        "sns.set_context(\"notebook\", font_scale=1.5,\n",
        "                rc={\"lines.linewidth\": 2.5})"
      ],
      "execution_count": 0,
      "outputs": []
    },
    {
      "cell_type": "code",
      "metadata": {
        "id": "tRbxiXmoK5dN",
        "colab_type": "code",
        "colab": {}
      },
      "source": [
        "def fashion_scatter(x, colors):\n",
        "    \n",
        "    num_classes = len(np.unique(colors))\n",
        "    palette = np.array(sns.color_palette(\"hls\", num_classes))\n",
        "  \n",
        "    fig,ax = plt.subplots(figsize=(7,7))\n",
        "    groups = pd.DataFrame(x, columns=['x', 'y']).assign(Decision=y_train).groupby('Decision')\n",
        "    for name, points in groups:\n",
        "      ax.scatter(points.x, points.y, label=name)\n",
        "      ax.legend()\n",
        "    plt.xlim(-40, 40)\n",
        "    plt.ylim(-40, 40)\n",
        "    ax.axis('off')\n",
        "    ax.axis('tight')\n",
        "    txts = []\n",
        "    return fig, ax, txts"
      ],
      "execution_count": 0,
      "outputs": []
    },
    {
      "cell_type": "code",
      "metadata": {
        "id": "cF0AyMKiogBj",
        "colab_type": "code",
        "colab": {}
      },
      "source": [
        ""
      ],
      "execution_count": 0,
      "outputs": []
    },
    {
      "cell_type": "code",
      "metadata": {
        "id": "QJsPbBXw32Ku",
        "colab_type": "code",
        "colab": {}
      },
      "source": [
        "# Main steps for processing the data."
      ],
      "execution_count": 0,
      "outputs": []
    },
    {
      "cell_type": "code",
      "metadata": {
        "id": "eobvJkCgoeob",
        "colab_type": "code",
        "colab": {}
      },
      "source": [
        "train = pd.read_csv('a1_train.tsv', sep='\\t',header=None)\n",
        "train.columns = ['TEXT','Decision']"
      ],
      "execution_count": 0,
      "outputs": []
    },
    {
      "cell_type": "code",
      "metadata": {
        "id": "jILvnNwvxGwK",
        "colab_type": "code",
        "colab": {}
      },
      "source": [
        "test = pd.read_csv('a1_dev.tsv', sep='\\t',header=None)\n",
        "test.columns = ['TEXT','Decision']"
      ],
      "execution_count": 0,
      "outputs": []
    },
    {
      "cell_type": "code",
      "metadata": {
        "id": "qtJ-5pcaomry",
        "colab_type": "code",
        "outputId": "24d2922b-be76-4f5a-9803-142bb565fb72",
        "colab": {
          "base_uri": "https://localhost:8080/",
          "height": 197
        }
      },
      "source": [
        "train.head()"
      ],
      "execution_count": 8,
      "outputs": [
        {
          "output_type": "execute_result",
          "data": {
            "text/html": [
              "<div>\n",
              "<style scoped>\n",
              "    .dataframe tbody tr th:only-of-type {\n",
              "        vertical-align: middle;\n",
              "    }\n",
              "\n",
              "    .dataframe tbody tr th {\n",
              "        vertical-align: top;\n",
              "    }\n",
              "\n",
              "    .dataframe thead th {\n",
              "        text-align: right;\n",
              "    }\n",
              "</style>\n",
              "<table border=\"1\" class=\"dataframe\">\n",
              "  <thead>\n",
              "    <tr style=\"text-align: right;\">\n",
              "      <th></th>\n",
              "      <th>TEXT</th>\n",
              "      <th>Decision</th>\n",
              "    </tr>\n",
              "  </thead>\n",
              "  <tbody>\n",
              "    <tr>\n",
              "      <th>0</th>\n",
              "      <td>A situation in which I was able to positively ...</td>\n",
              "      <td>1</td>\n",
              "    </tr>\n",
              "    <tr>\n",
              "      <th>1</th>\n",
              "      <td>Remember, coming across it incident. Consumer....</td>\n",
              "      <td>0</td>\n",
              "    </tr>\n",
              "    <tr>\n",
              "      <th>2</th>\n",
              "      <td>Alright and my previous job, I worked at a deb...</td>\n",
              "      <td>0</td>\n",
              "    </tr>\n",
              "    <tr>\n",
              "      <th>3</th>\n",
              "      <td>Usually bribery in implementing this using oth...</td>\n",
              "      <td>1</td>\n",
              "    </tr>\n",
              "    <tr>\n",
              "      <th>4</th>\n",
              "      <td>At my current position, I implemented a safety...</td>\n",
              "      <td>1</td>\n",
              "    </tr>\n",
              "  </tbody>\n",
              "</table>\n",
              "</div>"
            ],
            "text/plain": [
              "                                                TEXT  Decision\n",
              "0  A situation in which I was able to positively ...         1\n",
              "1  Remember, coming across it incident. Consumer....         0\n",
              "2  Alright and my previous job, I worked at a deb...         0\n",
              "3  Usually bribery in implementing this using oth...         1\n",
              "4  At my current position, I implemented a safety...         1"
            ]
          },
          "metadata": {
            "tags": []
          },
          "execution_count": 8
        }
      ]
    },
    {
      "cell_type": "code",
      "metadata": {
        "id": "KkTaZ_dfs08N",
        "colab_type": "code",
        "outputId": "5531dabf-2eac-438c-b152-ee790fff2dc1",
        "colab": {
          "base_uri": "https://localhost:8080/",
          "height": 197
        }
      },
      "source": [
        "test.head()"
      ],
      "execution_count": 9,
      "outputs": [
        {
          "output_type": "execute_result",
          "data": {
            "text/html": [
              "<div>\n",
              "<style scoped>\n",
              "    .dataframe tbody tr th:only-of-type {\n",
              "        vertical-align: middle;\n",
              "    }\n",
              "\n",
              "    .dataframe tbody tr th {\n",
              "        vertical-align: top;\n",
              "    }\n",
              "\n",
              "    .dataframe thead th {\n",
              "        text-align: right;\n",
              "    }\n",
              "</style>\n",
              "<table border=\"1\" class=\"dataframe\">\n",
              "  <thead>\n",
              "    <tr style=\"text-align: right;\">\n",
              "      <th></th>\n",
              "      <th>TEXT</th>\n",
              "      <th>Decision</th>\n",
              "    </tr>\n",
              "  </thead>\n",
              "  <tbody>\n",
              "    <tr>\n",
              "      <th>0</th>\n",
              "      <td>As a high school teacher for 30 years in a sma...</td>\n",
              "      <td>1</td>\n",
              "    </tr>\n",
              "    <tr>\n",
              "      <th>1</th>\n",
              "      <td>A situation in which I was able to positively ...</td>\n",
              "      <td>0</td>\n",
              "    </tr>\n",
              "    <tr>\n",
              "      <th>2</th>\n",
              "      <td>Hi I'm so a situation in which I was able to p...</td>\n",
              "      <td>1</td>\n",
              "    </tr>\n",
              "    <tr>\n",
              "      <th>3</th>\n",
              "      <td>But I'm I have to impact the positive iti of o...</td>\n",
              "      <td>0</td>\n",
              "    </tr>\n",
              "    <tr>\n",
              "      <th>4</th>\n",
              "      <td>A situation where I was able to positively inf...</td>\n",
              "      <td>1</td>\n",
              "    </tr>\n",
              "  </tbody>\n",
              "</table>\n",
              "</div>"
            ],
            "text/plain": [
              "                                                TEXT  Decision\n",
              "0  As a high school teacher for 30 years in a sma...         1\n",
              "1  A situation in which I was able to positively ...         0\n",
              "2  Hi I'm so a situation in which I was able to p...         1\n",
              "3  But I'm I have to impact the positive iti of o...         0\n",
              "4  A situation where I was able to positively inf...         1"
            ]
          },
          "metadata": {
            "tags": []
          },
          "execution_count": 9
        }
      ]
    },
    {
      "cell_type": "code",
      "metadata": {
        "id": "O3MRl1ChHZt1",
        "colab_type": "code",
        "outputId": "c247e5a5-e6ab-4848-ab8e-2e17ee4bd8b7",
        "colab": {
          "base_uri": "https://localhost:8080/",
          "height": 33
        }
      },
      "source": [
        "train.shape"
      ],
      "execution_count": 10,
      "outputs": [
        {
          "output_type": "execute_result",
          "data": {
            "text/plain": [
              "(2440, 2)"
            ]
          },
          "metadata": {
            "tags": []
          },
          "execution_count": 10
        }
      ]
    },
    {
      "cell_type": "code",
      "metadata": {
        "id": "2Byo53xUHd7C",
        "colab_type": "code",
        "outputId": "4adcf31b-66f8-4195-cf42-3206f0b427c5",
        "colab": {
          "base_uri": "https://localhost:8080/",
          "height": 33
        }
      },
      "source": [
        "test.shape"
      ],
      "execution_count": 11,
      "outputs": [
        {
          "output_type": "execute_result",
          "data": {
            "text/plain": [
              "(503, 2)"
            ]
          },
          "metadata": {
            "tags": []
          },
          "execution_count": 11
        }
      ]
    },
    {
      "cell_type": "code",
      "metadata": {
        "id": "1TX6DPzb0FAT",
        "colab_type": "code",
        "colab": {}
      },
      "source": [
        "tagged_tr = [TaggedDocument(words=word_tokenize(_d.lower()),\\\n",
        "tags=[str(i)]) for i, _d in enumerate(train.TEXT)]\n",
        "\n",
        "tagged_test = [TaggedDocument(words=word_tokenize(_d.lower()),\\\n",
        "tags=[str(i)]) for i, _d in enumerate(test.TEXT)]"
      ],
      "execution_count": 0,
      "outputs": []
    },
    {
      "cell_type": "code",
      "metadata": {
        "id": "qnYgsiUfxSVb",
        "colab_type": "code",
        "colab": {}
      },
      "source": [
        "model = Doc2Vec(vector_size=1000, window=2, alpha=1.5, min_count=2, workers=4)\n",
        "                \n",
        "model.build_vocab(tagged_tr)"
      ],
      "execution_count": 0,
      "outputs": []
    },
    {
      "cell_type": "code",
      "metadata": {
        "id": "34VZp3y9xaKN",
        "colab_type": "code",
        "outputId": "8197372f-24a7-47a6-b456-087a674d271e",
        "colab": {
          "base_uri": "https://localhost:8080/",
          "height": 770
        }
      },
      "source": [
        "max_epochs = 40\n",
        "t1 = time.time()\n",
        "for epoch in range(max_epochs):\n",
        "    print('iteration {0}'.format(epoch+1))\n",
        "    model.train(tagged_tr,\n",
        "                total_examples=model.corpus_count,\n",
        "                epochs=model.epochs)\n",
        "    model.alpha -= 0.0002\n",
        "    model.min_alpha = model.alpha\n",
        "   \n",
        "print(\"done!\")\n",
        "t2 = time.time()    \n",
        "model.save(\"Model\")\n",
        "print(\"Time: {}\".format(t2-t1))"
      ],
      "execution_count": 14,
      "outputs": [
        {
          "output_type": "stream",
          "text": [
            "iteration 1\n",
            "iteration 2\n",
            "iteration 3\n",
            "iteration 4\n",
            "iteration 5\n",
            "iteration 6\n",
            "iteration 7\n",
            "iteration 8\n",
            "iteration 9\n",
            "iteration 10\n",
            "iteration 11\n",
            "iteration 12\n",
            "iteration 13\n",
            "iteration 14\n",
            "iteration 15\n",
            "iteration 16\n",
            "iteration 17\n",
            "iteration 18\n",
            "iteration 19\n",
            "iteration 20\n",
            "iteration 21\n",
            "iteration 22\n",
            "iteration 23\n",
            "iteration 24\n",
            "iteration 25\n",
            "iteration 26\n",
            "iteration 27\n",
            "iteration 28\n",
            "iteration 29\n",
            "iteration 30\n",
            "iteration 31\n",
            "iteration 32\n",
            "iteration 33\n",
            "iteration 34\n",
            "iteration 35\n",
            "iteration 36\n",
            "iteration 37\n",
            "iteration 38\n",
            "iteration 39\n",
            "iteration 40\n",
            "done!\n"
          ],
          "name": "stdout"
        },
        {
          "output_type": "stream",
          "text": [
            "/usr/local/lib/python3.6/dist-packages/smart_open/smart_open_lib.py:410: UserWarning: This function is deprecated, use smart_open.open instead. See the migration notes for details: https://github.com/RaRe-Technologies/smart_open/blob/master/README.rst#migrating-to-the-new-open-function\n",
            "  'See the migration notes for details: %s' % _MIGRATION_NOTES_URL\n"
          ],
          "name": "stderr"
        },
        {
          "output_type": "stream",
          "text": [
            "Time: 175.4438774585724\n"
          ],
          "name": "stdout"
        }
      ]
    },
    {
      "cell_type": "code",
      "metadata": {
        "id": "Tk4YDoNBzMFB",
        "colab_type": "code",
        "colab": {}
      },
      "source": [
        "X_train = np.array([model.docvecs[str(i)] for i in range(len(tagged_tr))])\n",
        "y_train = train.Decision\n",
        "X_test = np.array([model.infer_vector(tagged_test[i][0]) for i in range(len(tagged_test))])\n",
        "y_test = test.Decision"
      ],
      "execution_count": 0,
      "outputs": []
    },
    {
      "cell_type": "code",
      "metadata": {
        "id": "kPsra-DOKuaE",
        "colab_type": "code",
        "colab": {}
      },
      "source": [
        "time_start = time.time()\n",
        "fashion_tsne = TSNE(random_state=100).fit_transform(X_train)"
      ],
      "execution_count": 0,
      "outputs": []
    },
    {
      "cell_type": "code",
      "metadata": {
        "id": "JCpP87OTKxIf",
        "colab_type": "code",
        "outputId": "fbcf8512-240c-4fc4-c521-9ee92632e793",
        "colab": {
          "base_uri": "https://localhost:8080/",
          "height": 461
        }
      },
      "source": [
        "fashion_scatter(fashion_tsne, y_train)"
      ],
      "execution_count": 17,
      "outputs": [
        {
          "output_type": "execute_result",
          "data": {
            "text/plain": [
              "(<Figure size 504x504 with 1 Axes>,\n",
              " <matplotlib.axes._subplots.AxesSubplot at 0x7fd7b520a390>,\n",
              " [])"
            ]
          },
          "metadata": {
            "tags": []
          },
          "execution_count": 17
        },
        {
          "output_type": "display_data",
          "data": {
            "image/png": "[encoded data removed]",
            "text/plain": [
              "<Figure size 504x504 with 1 Axes>"
            ]
          },
          "metadata": {
            "tags": []
          }
        }
      ]
    },
    {
      "cell_type": "code",
      "metadata": {
        "id": "LJKJZTAP9mwd",
        "colab_type": "code",
        "outputId": "d064cc59-a619-4345-9c05-0817bc232b64",
        "colab": {
          "base_uri": "https://localhost:8080/",
          "height": 516
        }
      },
      "source": [
        "lrc = LogisticRegression(C=5, multi_class='multinomial', solver='saga',max_iter=1000)\n",
        "lrc.fit(X_train,y_train)\n",
        "y_pred = lrc.predict(X_test)\n",
        "heatconmat(y_test,y_pred)"
      ],
      "execution_count": 18,
      "outputs": [
        {
          "output_type": "stream",
          "text": [
            "/usr/local/lib/python3.6/dist-packages/sklearn/linear_model/_sag.py:330: ConvergenceWarning: The max_iter was reached which means the coef_ did not converge\n",
            "  \"the coef_ did not converge\", ConvergenceWarning)\n"
          ],
          "name": "stderr"
        },
        {
          "output_type": "display_data",
          "data": {
            "image/png": "[encoded data removed]",
            "text/plain": [
              "<Figure size 360x360 with 1 Axes>"
            ]
          },
          "metadata": {
            "tags": []
          }
        },
        {
          "output_type": "stream",
          "text": [
            "              precision    recall  f1-score   support\n",
            "\n",
            "           0       0.62      0.97      0.76       314\n",
            "           1       0.36      0.03      0.05       189\n",
            "\n",
            "    accuracy                           0.62       503\n",
            "   macro avg       0.49      0.50      0.40       503\n",
            "weighted avg       0.52      0.62      0.49       503\n",
            "\n"
          ],
          "name": "stdout"
        }
      ]
    }
  ]
}